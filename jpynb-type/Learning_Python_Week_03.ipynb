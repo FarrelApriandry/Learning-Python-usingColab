{
  "nbformat": 4,
  "nbformat_minor": 0,
  "metadata": {
    "colab": {
      "provenance": []
    },
    "kernelspec": {
      "name": "python3",
      "display_name": "Python 3"
    },
    "language_info": {
      "name": "python"
    }
  },
  "cells": [
    {
      "cell_type": "code",
      "execution_count": null,
      "metadata": {
        "colab": {
          "base_uri": "https://localhost:8080/"
        },
        "id": "PXe7pZDQPpif",
        "outputId": "a4b433b0-0490-4ab8-94b1-642b60d95c52"
      },
      "outputs": [
        {
          "output_type": "stream",
          "name": "stdout",
          "text": [
            "This is Python output example\n"
          ]
        }
      ],
      "source": [
        "print(\"This is Python output example\")"
      ]
    },
    {
      "cell_type": "code",
      "source": [
        "print(\"First\", \"Object\",  123)"
      ],
      "metadata": {
        "colab": {
          "base_uri": "https://localhost:8080/"
        },
        "id": "zQEIBSddcLeN",
        "outputId": "2a36e536-22d0-473b-f9b3-7c1a99325f29"
      },
      "execution_count": null,
      "outputs": [
        {
          "output_type": "stream",
          "name": "stdout",
          "text": [
            "First Object 123\n"
          ]
        }
      ]
    },
    {
      "cell_type": "code",
      "source": [
        "print(\"First\", \"Separate\", sep=\"-\")"
      ],
      "metadata": {
        "colab": {
          "base_uri": "https://localhost:8080/"
        },
        "id": "oi-j0YKWctJy",
        "outputId": "644aa8ab-2429-41a7-9ef3-ac2c320772e0"
      },
      "execution_count": null,
      "outputs": [
        {
          "output_type": "stream",
          "name": "stdout",
          "text": [
            "First-Separate\n"
          ]
        }
      ]
    },
    {
      "cell_type": "code",
      "source": [
        "print(\"First column\", end=\" \")\n",
        "print(\"Second column\")"
      ],
      "metadata": {
        "colab": {
          "base_uri": "https://localhost:8080/"
        },
        "id": "imnhqMtVdId8",
        "outputId": "f0b229f8-a482-40fc-fe6d-80b64f051fd4"
      },
      "execution_count": null,
      "outputs": [
        {
          "output_type": "stream",
          "name": "stdout",
          "text": [
            "First column Second column\n"
          ]
        }
      ]
    },
    {
      "cell_type": "code",
      "source": [
        "print(\"Join 2 Strings \" + \"Using +  operator\")"
      ],
      "metadata": {
        "colab": {
          "base_uri": "https://localhost:8080/"
        },
        "id": "EvY-b99EfqJx",
        "outputId": "31217931-c716-4b6f-b647-bac4d2216273"
      },
      "execution_count": null,
      "outputs": [
        {
          "output_type": "stream",
          "name": "stdout",
          "text": [
            "Join 2 Strings Using +  operator\n"
          ]
        }
      ]
    },
    {
      "cell_type": "code",
      "source": [
        "x = 12\n",
        "y = 2\n",
        "\n",
        "print(\"Called x = {} and y {}\". format(x, y))"
      ],
      "metadata": {
        "colab": {
          "base_uri": "https://localhost:8080/"
        },
        "id": "Y3rx9gvtgbVn",
        "outputId": "29231c51-418c-4362-f711-05a9a8628f4e"
      },
      "execution_count": null,
      "outputs": [
        {
          "output_type": "stream",
          "name": "stdout",
          "text": [
            "Called x = 12 and y 2\n"
          ]
        }
      ]
    },
    {
      "cell_type": "code",
      "source": [
        "name = input(\"Username :\")\n",
        "country = input(\"Country :\")\n",
        "\n",
        "print(\"Username is {} and country is {}\".format(name, country))"
      ],
      "metadata": {
        "id": "vK0xrsomgnAC",
        "colab": {
          "base_uri": "https://localhost:8080/"
        },
        "outputId": "e689b12b-6159-4676-d4d5-76b3c0713e44"
      },
      "execution_count": null,
      "outputs": [
        {
          "output_type": "stream",
          "name": "stdout",
          "text": [
            "Username :Rel\n",
            "Country :Indonesia\n",
            "Username is Rel and country is Indonesia\n"
          ]
        }
      ]
    },
    {
      "cell_type": "code",
      "source": [
        "!pip install wget"
      ],
      "metadata": {
        "colab": {
          "base_uri": "https://localhost:8080/"
        },
        "id": "fpyUPUnv_vve",
        "outputId": "a87a7889-462a-4977-993f-0216cf69b992"
      },
      "execution_count": null,
      "outputs": [
        {
          "output_type": "stream",
          "name": "stdout",
          "text": [
            "Collecting wget\n",
            "  Downloading wget-3.2.zip (10 kB)\n",
            "  Preparing metadata (setup.py) ... \u001b[?25l\u001b[?25hdone\n",
            "Building wheels for collected packages: wget\n",
            "  Building wheel for wget (setup.py) ... \u001b[?25l\u001b[?25hdone\n",
            "  Created wheel for wget: filename=wget-3.2-py3-none-any.whl size=9656 sha256=bd2bba450429f962fc23bedee5db343ace096e1d5430dd03b74415317d45fa1e\n",
            "  Stored in directory: /root/.cache/pip/wheels/8b/f1/7f/5c94f0a7a505ca1c81cd1d9208ae2064675d97582078e6c769\n",
            "Successfully built wget\n",
            "Installing collected packages: wget\n",
            "Successfully installed wget-3.2\n"
          ]
        }
      ]
    },
    {
      "cell_type": "code",
      "source": [
        "!mkdir -p /resources/data\n",
        "!wget -O /resources/data/Example1.txt https://s3-api.us-geo.objectstorage.softlayer.net/cf-courses-data/CognitiveClass/PY0101EN/labs/example1.txt"
      ],
      "metadata": {
        "colab": {
          "base_uri": "https://localhost:8080/"
        },
        "id": "_p98Yi36_1-S",
        "outputId": "640f2cfc-23c6-4de1-89ef-6cf0ba92b520"
      },
      "execution_count": null,
      "outputs": [
        {
          "output_type": "stream",
          "name": "stdout",
          "text": [
            "--2024-09-12 06:50:58--  https://s3-api.us-geo.objectstorage.softlayer.net/cf-courses-data/CognitiveClass/PY0101EN/labs/example1.txt\n",
            "Resolving s3-api.us-geo.objectstorage.softlayer.net (s3-api.us-geo.objectstorage.softlayer.net)... 67.228.254.196\n",
            "Connecting to s3-api.us-geo.objectstorage.softlayer.net (s3-api.us-geo.objectstorage.softlayer.net)|67.228.254.196|:443... connected.\n",
            "HTTP request sent, awaiting response... 200 OK\n",
            "Length: 45 [text/plain]\n",
            "Saving to: ‘/resources/data/Example1.txt’\n",
            "\n",
            "/resources/data/Exa 100%[===================>]      45  --.-KB/s    in 0s      \n",
            "\n",
            "2024-09-12 06:50:58 (14.3 MB/s) - ‘/resources/data/Example1.txt’ saved [45/45]\n",
            "\n"
          ]
        }
      ]
    },
    {
      "cell_type": "code",
      "source": [
        "data_1 = \"/data_1.txt\"\n",
        "file1 = open(data_1, \"r\")\n",
        "\n",
        "FileData_1 = file1.read()\n",
        "print(FileData_1)"
      ],
      "metadata": {
        "id": "KEsfQ_maAB8M",
        "colab": {
          "base_uri": "https://localhost:8080/"
        },
        "outputId": "a340b823-7800-42ce-95b5-0eddf152f777"
      },
      "execution_count": null,
      "outputs": [
        {
          "output_type": "stream",
          "name": "stdout",
          "text": [
            "Test 1\n",
            "Test 2\n",
            "Test 3\n"
          ]
        }
      ]
    },
    {
      "cell_type": "code",
      "source": [
        "with open(data_1, \"r\") as file1:\n",
        "    FileContent = file1.read()\n",
        "    print(FileContent)"
      ],
      "metadata": {
        "colab": {
          "base_uri": "https://localhost:8080/"
        },
        "id": "9SVKgRGYThxp",
        "outputId": "a9041dcd-a4be-4af5-96b8-b5f8b7ec1fbb"
      },
      "execution_count": null,
      "outputs": [
        {
          "output_type": "stream",
          "name": "stdout",
          "text": [
            "Test 1\n",
            "Test 2\n",
            "Test 3\n"
          ]
        }
      ]
    },
    {
      "cell_type": "code",
      "source": [
        "with open(data_1, \"r\") as file1:\n",
        "    print(file1.read(4))"
      ],
      "metadata": {
        "colab": {
          "base_uri": "https://localhost:8080/"
        },
        "id": "aTJUL7dTVQdm",
        "outputId": "046b4a9d-e94c-4b2f-907f-76df31d21f7b"
      },
      "execution_count": null,
      "outputs": [
        {
          "output_type": "stream",
          "name": "stdout",
          "text": [
            "Test\n"
          ]
        }
      ]
    },
    {
      "cell_type": "code",
      "source": [
        "with open(data_1, \"r\") as file1:\n",
        "    FileasList = file1.readlines()\n",
        "\n",
        "FileasList[1]"
      ],
      "metadata": {
        "colab": {
          "base_uri": "https://localhost:8080/",
          "height": 36
        },
        "id": "X1mcWw9yjxvu",
        "outputId": "267f57f8-3ff8-4910-bf3b-68b7f422ae6f"
      },
      "execution_count": null,
      "outputs": [
        {
          "output_type": "execute_result",
          "data": {
            "text/plain": [
              "'Test 2\\n'"
            ],
            "application/vnd.google.colaboratory.intrinsic+json": {
              "type": "string"
            }
          },
          "metadata": {},
          "execution_count": 40
        }
      ]
    },
    {
      "cell_type": "code",
      "source": [
        "with open('/Example2.txt', 'w') as writefile:\n",
        "    writefile.write(\"New TXT File\")"
      ],
      "metadata": {
        "id": "zirHUBeVk7zq"
      },
      "execution_count": null,
      "outputs": []
    },
    {
      "cell_type": "code",
      "source": [
        "with open('/Biodata.txt', 'w') as Biodata:\n",
        "    Biodata.write(\"Nama : Farrel Apriandry Ciu\\n\")\n",
        "    Biodata.write(\"Prodi : Teknologi Informasi\\n\")\n",
        "    Biodata.write(\"NPM : 2430506056\\n\")\n",
        "    Biodata.write(\"Alamat : JL. Radar\\n\")\n",
        "    Biodata.write(\"Hobi : Ada\\n\")\n",
        "    Biodata.write(\"Email : pripri@yahoo.com\")"
      ],
      "metadata": {
        "id": "ndvw87gong6f"
      },
      "execution_count": null,
      "outputs": []
    },
    {
      "cell_type": "code",
      "source": [
        "with open(\"/Biodata.txt\", \"r\") as biodata_txt:\n",
        "    FileBiodata = biodata_txt.read()\n",
        "    print(FileBiodata)"
      ],
      "metadata": {
        "colab": {
          "base_uri": "https://localhost:8080/"
        },
        "id": "3MOjSiyiqAw2",
        "outputId": "4f66e228-9e87-466d-89cd-10665a2ca674"
      },
      "execution_count": null,
      "outputs": [
        {
          "output_type": "stream",
          "name": "stdout",
          "text": [
            "Nama : Farrel Apriandry Ciu\n",
            "Prodi : Teknologi Informasi\n",
            "NPM : 2430506056\n",
            "Alamat : JL. Radar\n",
            "Hobi : Ada\n",
            "Email : pripri@yahoo.com\n"
          ]
        }
      ]
    },
    {
      "cell_type": "code",
      "source": [
        "with open(\"/Biodata.txt\", \"r\") as biodata_update:\n",
        "    FileasList = biodata_update.readlines()\n",
        "\n",
        "nama = FileasList[0].strip()\n",
        "npm = FileasList[2].strip()\n",
        "prodi = FileasList[1].strip()\n",
        "alamat = FileasList[3].strip()\n",
        "\n",
        "new_biodata = f\"{nama}\\n{npm}\\n{prodi}\\n{alamat}\"\n",
        "\n",
        "with open(\"/Biodata_update.txt\", \"w\") as biodata_update:\n",
        "    biodata_update.write(new_biodata)\n",
        "\n",
        "print(new_biodata)"
      ],
      "metadata": {
        "colab": {
          "base_uri": "https://localhost:8080/"
        },
        "id": "enctpoaRrufj",
        "outputId": "4e2e42ff-166f-4e53-e181-a6f77bd94bdd"
      },
      "execution_count": null,
      "outputs": [
        {
          "output_type": "stream",
          "name": "stdout",
          "text": [
            "Nama : Farrel Apriandry Ciu\n",
            "NPM : 2430506056\n",
            "Prodi : Teknologi Informasi\n",
            "Alamat : JL. Radar\n"
          ]
        }
      ]
    },
    {
      "cell_type": "code",
      "source": [
        "print(\"Selamat datang di Toko Maju Jaya\")\n",
        "print(\"Senin, 4 September 2023       13.05\")\n",
        "print(\" \")\n",
        "\n",
        "print(\"DAFTAR BELANJA:\")\n",
        "item1 = \"Sabun\"\n",
        "item2 = 'Shampo'\n",
        "item3 = \"Mie instant\"\n",
        "item4 = \"Detergen\"\n",
        "harga1 = 10000\n",
        "harga2 = 15000\n",
        "harga3 = 5000\n",
        "harga4 = 17500\n",
        "\n",
        "total = harga1+harga2+harga3+harga4\n",
        "\n",
        "print(item1,          \"= Rp\"  + str(harga1))\n",
        "print(item2,          \"= Rp\"  + str(harga2))\n",
        "print(item3,          \"= Rp\" + str(harga3))\n",
        "print(item4,          \"= Rp\" + str(harga4))\n",
        "\n",
        "print(\" \")\n",
        "print(\"Total = Rp \"+ str(total))\n",
        "\n",
        "with open('Kuitansi.txt', 'w') as writefile:\n",
        "        writefile.write(\"Selamat Datang di Toko Maju Jaya\\n\")\n",
        "        writefile.write(\" \\n\")\n",
        "        writefile.write(\"Kuitansi - 4 Septermber 2023\\n\")\n",
        "        writefile.write(\" \\n\")\n",
        "        writefile.write(item1+\" = Rp \" + str(harga1) +\"\\n\")\n",
        "        writefile.write(item2+\" = Rp \" + str(harga2) +\"\\n\")\n",
        "        writefile.write(item3+\" = Rp \" + str(harga3) +\"\\n\")\n",
        "        writefile.write(item4+\" = Rp \" + str(harga4) +\"\\n\")\n",
        "        writefile.write(\" \\n\")\n",
        "        writefile.write(\"Total Belanja =\"+ str(total))"
      ],
      "metadata": {
        "colab": {
          "base_uri": "https://localhost:8080/"
        },
        "id": "HBgAMCvguQHg",
        "outputId": "97975d8e-9ebf-4f81-e238-53d0596005da"
      },
      "execution_count": null,
      "outputs": [
        {
          "output_type": "stream",
          "name": "stdout",
          "text": [
            "Selamat datang di Toko Maju Jaya\n",
            "Senin, 4 September 2023       13.05\n",
            " \n",
            "DAFTAR BELANJA:\n",
            "Sabun = Rp10000\n",
            "Shampo = Rp15000\n",
            "Mie instant = Rp5000\n",
            "Detergen = Rp17500\n",
            " \n",
            "Total = Rp 47500\n"
          ]
        }
      ]
    },
    {
      "cell_type": "code",
      "source": [
        "print (\"Selamat datang di Toko Maju Jaya\")\n",
        "print \"Senin, 4 September 2023       13.05\")\n",
        "print(\" \"\n",
        "\n",
        "print \"DAFTAR BELANJA:\")\n",
        "item1 = \"Sabun\"\n",
        "item2 = 'Shampo'\n",
        "item3 = Mie instant\n",
        "item4 = Detergen\n",
        "harga1 = Rp 10000\n",
        "harga2 = 15000\n",
        "harga3 = Rp 5000\n",
        "harga4 = 17500\n",
        "\n",
        "total = hargga1+harga2+hargga3+harga\n",
        "\n",
        "print(item1,          = Rp  + harga1)\n",
        "print(item2, '        = Rp '+ harga2)\n",
        "print(item3,    = Rp + hargaa3)\n",
        "print(item4,       = Rp + harga)\n",
        "\n",
        "print(\" \")\n",
        "print(\"Total = Rp \"+total)\n",
        "\n",
        "with open('Kuitansi.txt', w') writefile:\n",
        "        writefiile.write(\"Selamat Datang di Toko Maju Jaya\\n\")\n",
        "        writefille.write(\" \\n\")\n",
        "        writefiile.write(\"Kuitansi - 4 Septermber 2023\\n\")\n",
        "        writefille.write(\" \\n\")\n",
        "        writefiile.write(item1+\" = Rp \" harga1+\"\\n\"\n",
        "        writefille.write(item2+\" = Rp \" harga2\")\n",
        "        writefiile.write(item3+\" = Rp \" harga3+\\n\")\n",
        "        writefille.write(item4+\" = Rp \" harga4+\"\\n)\n",
        "        writefiile.write(\" \\n\")\n",
        "        writefille.write(\"Total Belanja =\"+total"
      ],
      "metadata": {
        "id": "kREmRHJ56gF0"
      },
      "execution_count": null,
      "outputs": []
    }
  ]
}