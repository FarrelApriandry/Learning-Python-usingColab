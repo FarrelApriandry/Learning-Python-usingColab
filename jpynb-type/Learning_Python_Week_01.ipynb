{
  "nbformat": 4,
  "nbformat_minor": 0,
  "metadata": {
    "colab": {
      "provenance": []
    },
    "kernelspec": {
      "name": "python3",
      "display_name": "Python 3"
    },
    "language_info": {
      "name": "python"
    }
  },
  "cells": [
    {
      "cell_type": "code",
      "execution_count": null,
      "metadata": {
        "colab": {
          "base_uri": "https://localhost:8080/",
          "height": 35
        },
        "id": "bcK_WAWjxoY8",
        "outputId": "40965cb6-fc7c-465d-ba12-483da390f8fa"
      },
      "outputs": [
        {
          "output_type": "execute_result",
          "data": {
            "text/plain": [
              "'This is string object type'"
            ],
            "application/vnd.google.colaboratory.intrinsic+json": {
              "type": "string"
            }
          },
          "metadata": {},
          "execution_count": 1
        }
      ],
      "source": [
        "# String\n",
        "\n",
        "\"This is string object type\""
      ]
    },
    {
      "cell_type": "code",
      "source": [
        "# Integers\n",
        "\n",
        "125"
      ],
      "metadata": {
        "colab": {
          "base_uri": "https://localhost:8080/"
        },
        "id": "nS_KlsaezqLa",
        "outputId": "87c949dc-ac60-4435-c680-b49831c64a06"
      },
      "execution_count": null,
      "outputs": [
        {
          "output_type": "execute_result",
          "data": {
            "text/plain": [
              "125"
            ]
          },
          "metadata": {},
          "execution_count": 4
        }
      ]
    },
    {
      "cell_type": "code",
      "source": [
        "# Float\n",
        "\n",
        "3.14"
      ],
      "metadata": {
        "colab": {
          "base_uri": "https://localhost:8080/"
        },
        "id": "SCuE5E34zrwN",
        "outputId": "29f9fd2e-cf78-4375-e873-d0e7142bce87"
      },
      "execution_count": null,
      "outputs": [
        {
          "output_type": "execute_result",
          "data": {
            "text/plain": [
              "3.14"
            ]
          },
          "metadata": {},
          "execution_count": 5
        }
      ]
    },
    {
      "cell_type": "code",
      "source": [
        "# Str type\n",
        "\n",
        "type(\"This is string object type\")"
      ],
      "metadata": {
        "colab": {
          "base_uri": "https://localhost:8080/"
        },
        "id": "7tWFRNgu07EK",
        "outputId": "deb5b58b-a9c2-4adf-e309-f6426890dcfd"
      },
      "execution_count": null,
      "outputs": [
        {
          "output_type": "execute_result",
          "data": {
            "text/plain": [
              "str"
            ]
          },
          "metadata": {},
          "execution_count": 6
        }
      ]
    },
    {
      "cell_type": "code",
      "source": [
        "# Int type\n",
        "\n",
        "type(125)"
      ],
      "metadata": {
        "colab": {
          "base_uri": "https://localhost:8080/"
        },
        "id": "7giq3Wh11A-u",
        "outputId": "88ad46b2-88d3-43a9-b0f7-b20ec278c463"
      },
      "execution_count": null,
      "outputs": [
        {
          "output_type": "execute_result",
          "data": {
            "text/plain": [
              "int"
            ]
          },
          "metadata": {},
          "execution_count": 7
        }
      ]
    },
    {
      "cell_type": "code",
      "source": [
        "# Float type\n",
        "\n",
        "type(3.14)"
      ],
      "metadata": {
        "colab": {
          "base_uri": "https://localhost:8080/"
        },
        "id": "6lyf_3mP1BPG",
        "outputId": "50612777-0132-4010-e293-ac2514e79d03"
      },
      "execution_count": null,
      "outputs": [
        {
          "output_type": "execute_result",
          "data": {
            "text/plain": [
              "float"
            ]
          },
          "metadata": {},
          "execution_count": 9
        }
      ]
    },
    {
      "cell_type": "code",
      "source": [
        "# Convert Integer to String\n",
        "\n",
        "type(str(125))"
      ],
      "metadata": {
        "colab": {
          "base_uri": "https://localhost:8080/"
        },
        "id": "cBMi4ZuL3DyR",
        "outputId": "2ea7f039-9eff-43db-8c3f-309879b2c607"
      },
      "execution_count": null,
      "outputs": [
        {
          "output_type": "execute_result",
          "data": {
            "text/plain": [
              "str"
            ]
          },
          "metadata": {},
          "execution_count": 10
        }
      ]
    },
    {
      "cell_type": "code",
      "source": [
        "# Convert Integer to Float\n",
        "\n",
        "type(float(125))"
      ],
      "metadata": {
        "colab": {
          "base_uri": "https://localhost:8080/"
        },
        "id": "mcT4BDLt3Wqc",
        "outputId": "ce13d910-d7c7-4fee-b8fd-b753d9a770fe"
      },
      "execution_count": null,
      "outputs": [
        {
          "output_type": "execute_result",
          "data": {
            "text/plain": [
              "float"
            ]
          },
          "metadata": {},
          "execution_count": 11
        }
      ]
    },
    {
      "cell_type": "code",
      "source": [
        "# What is the data type of the result of 6/2?\n",
        "\n",
        "type(6/2)"
      ],
      "metadata": {
        "colab": {
          "base_uri": "https://localhost:8080/"
        },
        "id": "Tg7E40nk45A0",
        "outputId": "8dea115a-f683-49b4-b1e1-d45bea96a2be"
      },
      "execution_count": null,
      "outputs": [
        {
          "output_type": "execute_result",
          "data": {
            "text/plain": [
              "float"
            ]
          },
          "metadata": {},
          "execution_count": 12
        }
      ]
    },
    {
      "cell_type": "code",
      "source": [
        "# What is the data type of the result of 6//2? (Note the double slash //)\n",
        "\n",
        "type(6//2)"
      ],
      "metadata": {
        "colab": {
          "base_uri": "https://localhost:8080/"
        },
        "id": "l1-MlfwK5G1S",
        "outputId": "4c6a1dce-2ffc-4c67-fad0-ab859021f2ea"
      },
      "execution_count": null,
      "outputs": [
        {
          "output_type": "execute_result",
          "data": {
            "text/plain": [
              "int"
            ]
          },
          "metadata": {},
          "execution_count": 13
        }
      ]
    },
    {
      "cell_type": "code",
      "source": [
        "# Addition Operation\n",
        "\n",
        "type(10.5 + 20.5)"
      ],
      "metadata": {
        "id": "9-_TTQZU5c0N",
        "colab": {
          "base_uri": "https://localhost:8080/"
        },
        "outputId": "4c8c3cad-451e-4277-93d7-d650f46325af"
      },
      "execution_count": null,
      "outputs": [
        {
          "output_type": "execute_result",
          "data": {
            "text/plain": [
              "float"
            ]
          },
          "metadata": {},
          "execution_count": 3
        }
      ]
    },
    {
      "cell_type": "code",
      "source": [
        "# Substraction Operation\n",
        "\n",
        "type(20 - 5)"
      ],
      "metadata": {
        "colab": {
          "base_uri": "https://localhost:8080/"
        },
        "id": "6a0ygBqsdf0u",
        "outputId": "ea7d9663-4a53-4abe-9599-394eab0425c4"
      },
      "execution_count": null,
      "outputs": [
        {
          "output_type": "execute_result",
          "data": {
            "text/plain": [
              "int"
            ]
          },
          "metadata": {},
          "execution_count": 2
        }
      ]
    },
    {
      "cell_type": "code",
      "source": [
        "# Multiplication Operation\n",
        "\n",
        "4 * 4"
      ],
      "metadata": {
        "colab": {
          "base_uri": "https://localhost:8080/"
        },
        "id": "uFWReHGseqSi",
        "outputId": "85237fff-36e8-4dee-977b-5042856a4805"
      },
      "execution_count": null,
      "outputs": [
        {
          "output_type": "execute_result",
          "data": {
            "text/plain": [
              "16"
            ]
          },
          "metadata": {},
          "execution_count": 4
        }
      ]
    },
    {
      "cell_type": "code",
      "source": [
        "# Division Operation\n",
        "\n",
        "30/5"
      ],
      "metadata": {
        "colab": {
          "base_uri": "https://localhost:8080/"
        },
        "id": "Mgt4Pqobe4K1",
        "outputId": "def768a0-04bd-429f-977d-aad77d9aab54"
      },
      "execution_count": null,
      "outputs": [
        {
          "output_type": "execute_result",
          "data": {
            "text/plain": [
              "6.0"
            ]
          },
          "metadata": {},
          "execution_count": 5
        }
      ]
    },
    {
      "cell_type": "code",
      "source": [
        "# Integer Division Operation\n",
        "\n",
        "30//5"
      ],
      "metadata": {
        "colab": {
          "base_uri": "https://localhost:8080/"
        },
        "id": "bkEV63aifKi6",
        "outputId": "5cbe86eb-629e-49a9-9772-d0207fcf4e9e"
      },
      "execution_count": null,
      "outputs": [
        {
          "output_type": "execute_result",
          "data": {
            "text/plain": [
              "6"
            ]
          },
          "metadata": {},
          "execution_count": 6
        }
      ]
    },
    {
      "cell_type": "code",
      "source": [
        "# Write your code below. Don't forget to press Shift+Enter to execute the cell\n",
        "\n",
        "240/60"
      ],
      "metadata": {
        "colab": {
          "base_uri": "https://localhost:8080/"
        },
        "id": "scPrT_xXffTh",
        "outputId": "529a539b-9d40-45f2-d30e-f3275bc28040"
      },
      "execution_count": null,
      "outputs": [
        {
          "output_type": "execute_result",
          "data": {
            "text/plain": [
              "4.0"
            ]
          },
          "metadata": {},
          "execution_count": 8
        }
      ]
    },
    {
      "cell_type": "code",
      "source": [
        "# Mathematical expression\n",
        "\n",
        "10 + 5 * 4 // 2"
      ],
      "metadata": {
        "colab": {
          "base_uri": "https://localhost:8080/"
        },
        "id": "iDV9uzJagYTl",
        "outputId": "094de39b-4b33-4445-fae1-0c016d419dc7"
      },
      "execution_count": null,
      "outputs": [
        {
          "output_type": "execute_result",
          "data": {
            "text/plain": [
              "20"
            ]
          },
          "metadata": {},
          "execution_count": 9
        }
      ]
    },
    {
      "cell_type": "code",
      "source": [
        "# Mathematical expression\n",
        "\n",
        "(6 + 4) * 5"
      ],
      "metadata": {
        "colab": {
          "base_uri": "https://localhost:8080/"
        },
        "id": "59lv6cBjg52s",
        "outputId": "855ee8b1-f6fa-463a-ef22-fc3332aa7326"
      },
      "execution_count": null,
      "outputs": [
        {
          "output_type": "execute_result",
          "data": {
            "text/plain": [
              "100"
            ]
          },
          "metadata": {},
          "execution_count": 10
        }
      ]
    },
    {
      "cell_type": "code",
      "source": [
        "# Print variable\n",
        "\n",
        "x = 20 + 5 * 2\n",
        "\n",
        "print(x)"
      ],
      "metadata": {
        "colab": {
          "base_uri": "https://localhost:8080/"
        },
        "id": "KFpUq8hbhRIw",
        "outputId": "17278ae7-ec70-4037-cd91-9a563f427909"
      },
      "execution_count": null,
      "outputs": [
        {
          "output_type": "stream",
          "name": "stdout",
          "text": [
            "30\n"
          ]
        }
      ]
    },
    {
      "cell_type": "code",
      "source": [
        "# Digital Market example\n",
        "\n",
        "milk_price = 5\n",
        "\n",
        "milk_result = milk_price * 2\n",
        "\n",
        "print(\"$\" + (str(milk_result)))"
      ],
      "metadata": {
        "colab": {
          "base_uri": "https://localhost:8080/"
        },
        "id": "horGenkkiGdm",
        "outputId": "462c00c8-db2a-4db2-bf62-2797d4f6be8d"
      },
      "execution_count": null,
      "outputs": [
        {
          "output_type": "stream",
          "name": "stdout",
          "text": [
            "$10\n"
          ]
        }
      ]
    },
    {
      "cell_type": "code",
      "source": [
        "# Write your code below. Don't forget to press Shift+Enter to execute the cell\n",
        "\n",
        "x = 5 + 4 * 4\n",
        "\n",
        "print(x)"
      ],
      "metadata": {
        "id": "uTJ0wAdhi1j9"
      },
      "execution_count": null,
      "outputs": []
    },
    {
      "cell_type": "code",
      "source": [
        "# Write your code below. Don't forget to press Shift+Enter to execute the cell\n",
        "\n",
        "y = (24+6) // 5\n",
        "\n",
        "print(y)"
      ],
      "metadata": {
        "colab": {
          "base_uri": "https://localhost:8080/"
        },
        "id": "IdustDttjMcf",
        "outputId": "a41fa4db-4f53-4988-f2c3-6861a6924ad4"
      },
      "execution_count": null,
      "outputs": [
        {
          "output_type": "stream",
          "name": "stdout",
          "text": [
            "6\n"
          ]
        }
      ]
    },
    {
      "cell_type": "code",
      "source": [
        "panjang = 20.5\n",
        "lebar = 25\n",
        "tinggi = 10\n",
        "\n",
        "keliling = 2*(panjang+lebar)\n",
        "luas = panjang*lebar\n",
        "volum = panjang*lebar*tinggi\n",
        "\n",
        "print(\"Panjang = \" + (str(panjang)))\n",
        "print(\"Lebar = \" + (str(lebar)))\n",
        "print(\"Tinggi = \" + (str(tinggi)))\n",
        "print(\"Keliling = \" + (str(int(keliling))))\n",
        "print(\"Volume = \" + (str(int(volum))))"
      ],
      "metadata": {
        "colab": {
          "base_uri": "https://localhost:8080/"
        },
        "id": "qApAtdgykhjJ",
        "outputId": "134e4aec-032d-44fd-9464-92e127870c40"
      },
      "execution_count": null,
      "outputs": [
        {
          "output_type": "stream",
          "name": "stdout",
          "text": [
            "Panjang = 20.5\n",
            "Lebar = 25\n",
            "Tinggi = 10\n",
            "Keliling = 91\n",
            "Volume = 5125\n"
          ]
        }
      ]
    },
    {
      "cell_type": "code",
      "source": [
        "#Deklarasi setiap nilai Mahasiswa kedalam sebuah variabel\n",
        "#n_1 untuk mata kuliah pertama = Kalkulus 1\n",
        "#n_2 untuk mata kuliah kedua = Metode Statistika\n",
        "\n",
        "shafira_n_1 = 85\n",
        "shafira_n_2 = 75\n",
        "amanda_n_1 = 80\n",
        "amanda_n_2 = 90\n",
        "aditya_n_1 = 75\n",
        "aditya_n_2 = 80\n",
        "nedia_n_1 = 95\n",
        "nedia_n_2 = 80\n",
        "widya_n_1 = 85\n",
        "widya_n_2 = 85\n",
        "hanif_n_1 = 75\n",
        "hanif_n_2 = 90\n",
        "andi_n_1 = 70\n",
        "andi_n_2 = 75\n",
        "dhanar_n_1 = 85\n",
        "dhanar_n_2 = 85\n",
        "hikma_n_1 = 80\n",
        "hikma_n_2 = 75\n",
        "\n",
        "print(\"===== Program untuk menampilkan data-data berikut =====\")\n",
        "print(\"\")\n",
        "\n",
        "#Rata-rata nilai Shafira pada kedua mata kuliah\n",
        "\n",
        "r_r_n_shafira = (shafira_n_1 + shafira_n_2) // 2\n",
        "\n",
        "print(\"Rata-rata nilai Shafira pada kedua mata kuliah adalah = \" + (str(r_r_n_shafira)))\n",
        "print(\"\")\n",
        "\n",
        "#Jumlah nilai Hanif dan Andi untuk semua mata kuliah\n",
        "\n",
        "jml_n_hanif_andi = (hanif_n_1 + hanif_n_2 + andi_n_1 + andi_n_2)\n",
        "\n",
        "print(\"Jumlah nilai Hanif dan Andi untuk semua mata kuliah adalah = \" + (str(jml_n_hanif_andi)))\n",
        "print(\"\")\n",
        "\n",
        "#Rata-rata nilai kalkulus 1 Widya, Dhanar, Hikma, dan Nedia pada masing mata kuliah\n",
        "\n",
        "r_r_n_kalkulus = ((widya_n_1 + dhanar_n_1 + hikma_n_1 + nedia_n_1) // 4)\n",
        "\n",
        "print(\"Rata-rata nilai Widya, Dhanar, Hikma dan Nedia pada mata kuliah kalkulus 1 adalah = \" + (str(r_r_n_kalkulus)))\n",
        "print(\"\")\n",
        "\n",
        "#Rata-rata nilai Metode Statistika Widya, Dhanar, Hikma, dan Nedia pada masing mata kuliah\n",
        "\n",
        "r_r_n_statistika = ((widya_n_2 + dhanar_n_2 + hikma_n_2 + nedia_n_2) // 4)\n",
        "\n",
        "print(\"Rata-rata nilai Widya, Dhanar, Hikma dan Nedia pada mata kuliah Metode Statistika adalah = \" + (str(r_r_n_statistika)))\n",
        "print(\"\")\n",
        "\n",
        "#Rata-rata nilai kalkulus 1 pada semua mahasiswa\n",
        "\n",
        "r_r_n_kalkulus_sm = ((shafira_n_1 + amanda_n_1 + aditya_n_1 + nedia_n_1 + widya_n_1 + hanif_n_1 + andi_n_1 + dhanar_n_1 + hikma_n_1) // 9 )\n",
        "\n",
        "print(\"Rata-rata nilai kalkulus 1 pada semua mahasiswa adalah = \" + (str(r_r_n_kalkulus_sm)))\n",
        "print(\"\")\n",
        "\n",
        "#Rata-rata nilai Metode Statistika pada semua mahasiswa\n",
        "\n",
        "r_r_n_statistika_sm = ((shafira_n_2 + amanda_n_2 + aditya_n_2 + nedia_n_2 + widya_n_2 + hanif_n_2 + andi_n_2 + dhanar_n_2 + hikma_n_2) // 9 )\n",
        "\n",
        "print(\"Rata-rata nilai metode statistika pada semua mahasiswa adalah = \" + (str(r_r_n_statistika_sm)))\n"
      ],
      "metadata": {
        "colab": {
          "base_uri": "https://localhost:8080/"
        },
        "id": "u7oNt-UvlHY2",
        "outputId": "311f386f-662e-4af8-c8cc-492101e5bb23"
      },
      "execution_count": null,
      "outputs": [
        {
          "output_type": "stream",
          "name": "stdout",
          "text": [
            "===== Program untuk menampilkan data-data berikut =====\n",
            "\n",
            "Rata-rata nilai Shafira pada kedua mata kuliah adalah = 80\n",
            "\n",
            "Jumlah nilai Hanif dan Andi untuk semua mata kuliah adalah = 310\n",
            "\n",
            "Rata-rata nilai Widya, Dhanar, Hikma dan Nedia pada mata kuliah kalkulus 1 adalah = 86\n",
            "\n",
            "Rata-rata nilai Widya, Dhanar, Hikma dan Nedia pada mata kuliah Metode Statistika adalah = 81\n",
            "\n",
            "Rata-rata nilai kalkulus 1 pada semua mahasiswa adalah = 81\n",
            "\n",
            "Rata-rata nilai metode statistika pada semua mahasiswa adalah = 81\n"
          ]
        }
      ]
    },
    {
      "cell_type": "code",
      "source": [
        "br = \"\"\n",
        "\n",
        "lama_kerja = 10 #Lama kerja Dwi\n",
        "jam_kerja = 8 #Jam Kerja Dwi selama 1 hari\n",
        "gaji_jam = 30000 #Gaji Dwi perjam\n",
        "gaji_hari = gaji_jam * jam_kerja # Gaji Dwi perhari\n",
        "\n",
        "print(\"===== Perhitungan gaji Dwi pada beberapa kondisi =====\")\n",
        "print(br)\n",
        "\n",
        "# Gaji pada bulan Agustus jika Dwi tidak masuk kerja selama 3 hari\n",
        "\n",
        "jml_hari_bln_agustus = 31 # Jumlah Hari pada bulan Agustus\n",
        "jml_hari_izin_dwi = 3 # Jumlah hari Dwi izin pada bulan Agustus\n",
        "hari_lbr_bln_agustus = 8 # Hari libur seperti sabtu dan minggu\n",
        "\n",
        "gaji_dwi_bln_agustus = (jml_hari_bln_agustus - jml_hari_izin_dwi - hari_lbr_bln_agustus) * gaji_hari # Gaji Dwi pada bulan agustus yang sudah melalui perhitungan tidak masuk kerja\n",
        "formatted_gaji_dwi = f\"{gaji_dwi_bln_agustus:,}\".replace(\",\", \".\")\n",
        "\n",
        "\n",
        "print(\"Gaji pada bulan Agustus jika Dwi tidak masuk kerja selama 3 hari adalah = Rp\" + (str(formatted_gaji_dwi)))\n",
        "print(br)\n",
        "\n",
        "# Tunjangan Dwi pada bulan Agustus jika karyawan yang sudah bekerja lebih dari 5 Tahun mendapat tunjangan sebesar 10%\n",
        "\n",
        "tunjangan = 0.1 # Tunjangan sebesar 10% dari gaji atau 0.1/1 dari gaji\n",
        "\n",
        "tunjangan_dwi_bln_agustus = gaji_bln_agustus * tunjangan # tunjangan Dwi pada bulan Agustus\n",
        "formatted_tunjangan_akhir_dwi = f\"{tunjangan_dwi_bln_agustus:,}\".replace(\",\", \".\")\n",
        "\n",
        "print(\"Tunjangan Dwi pada bulan Agustus sebesar = Rp\" + (str(formatted_tunjangan_akhir_dwi)))\n",
        "print(br)\n",
        "\n",
        "# Pada bulan Agustus Dwi mendapatkan tugas lembur selama 5 jam, gaji total yang diterima oleh Dwi pada bulan Agustus\n",
        "\n",
        "upah_lembur = 10000 # Upah lembur setiap 1 jam lembur adalah 10.000/Jam\n",
        "lama_dwi_lembur_agustus = 5 # Lama lembur Dwi pada Bulan Agustus adalah 5 jam\n",
        "\n",
        "ttl_keuntungan_lembur_dwi = lama_dwi_lembur_agustus * upah_lembur\n",
        "\n",
        "gaji_akhir_dwi_bln_agustus = gaji_bln_agustus + tunjangan_dwi_bln_agustus + ttl_keuntungan_lembur_dwi\n",
        "formatted_gaji_akhir_dwi = f\"{gaji_akhir_dwi_bln_agustus:,}\".replace(\",\", \".\")\n",
        "\n",
        "print(\"Total gaji Dwi secara keseluruhan, dengan tunjangan dan upah lembur adalah = Rp\" + (str(formatted_gaji_akhir_dwi)))\n"
      ],
      "metadata": {
        "colab": {
          "base_uri": "https://localhost:8080/"
        },
        "id": "Ha4iZE9nqeJw",
        "outputId": "4dd4a6c2-c614-4843-e3da-22bb7482bdc0"
      },
      "execution_count": null,
      "outputs": [
        {
          "output_type": "stream",
          "name": "stdout",
          "text": [
            "===== Perhitungan gaji Dwi pada beberapa kondisi =====\n",
            "\n",
            "Gaji pada bulan Agustus jika Dwi tidak masuk kerja selama 3 hari adalah = Rp4.800.000\n",
            "\n",
            "Tunjangan Dwi pada bulan Agustus sebesar = Rp480.000.0\n",
            "\n",
            "Total gaji Dwi secara keseluruhan, dengan tunjangan dan upah lembur adalah = Rp5.330.000.0\n"
          ]
        }
      ]
    }
  ]
}