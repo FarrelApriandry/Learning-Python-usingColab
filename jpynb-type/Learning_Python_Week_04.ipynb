{
  "nbformat": 4,
  "nbformat_minor": 0,
  "metadata": {
    "colab": {
      "provenance": []
    },
    "kernelspec": {
      "name": "python3",
      "display_name": "Python 3"
    },
    "language_info": {
      "name": "python"
    }
  },
  "cells": [
    {
      "cell_type": "code",
      "execution_count": null,
      "metadata": {
        "colab": {
          "base_uri": "https://localhost:8080/"
        },
        "id": "j41g82JsVRUu",
        "outputId": "02636cdb-806d-43d2-f30e-387a9b679160"
      },
      "outputs": [
        {
          "output_type": "execute_result",
          "data": {
            "text/plain": [
              "True"
            ]
          },
          "metadata": {},
          "execution_count": 3
        }
      ],
      "source": [
        "a = 2\n",
        "b = 2\n",
        "\n",
        "a == b"
      ]
    },
    {
      "cell_type": "code",
      "source": [
        "a = 'value'\n",
        "b = 'value'\n",
        "\n",
        "a == b"
      ],
      "metadata": {
        "colab": {
          "base_uri": "https://localhost:8080/"
        },
        "id": "sfO3MkUqczdn",
        "outputId": "d8474604-0c8a-442a-84db-59f25fc1869e"
      },
      "execution_count": null,
      "outputs": [
        {
          "output_type": "execute_result",
          "data": {
            "text/plain": [
              "True"
            ]
          },
          "metadata": {},
          "execution_count": 6
        }
      ]
    },
    {
      "cell_type": "code",
      "source": [
        "a = 2\n",
        "b = 4\n",
        "\n",
        "a != b"
      ],
      "metadata": {
        "colab": {
          "base_uri": "https://localhost:8080/"
        },
        "id": "frfSuMH2c295",
        "outputId": "d672472d-51fb-49a1-d158-95cb116dc892"
      },
      "execution_count": null,
      "outputs": [
        {
          "output_type": "execute_result",
          "data": {
            "text/plain": [
              "True"
            ]
          },
          "metadata": {},
          "execution_count": 7
        }
      ]
    },
    {
      "cell_type": "code",
      "source": [
        "a = 2\n",
        "b = 2\n",
        "\n",
        "a != b"
      ],
      "metadata": {
        "colab": {
          "base_uri": "https://localhost:8080/"
        },
        "id": "r4x03XxxdkQw",
        "outputId": "ad275770-58f5-49ac-e362-6518a0b4733b"
      },
      "execution_count": null,
      "outputs": [
        {
          "output_type": "execute_result",
          "data": {
            "text/plain": [
              "False"
            ]
          },
          "metadata": {},
          "execution_count": 8
        }
      ]
    },
    {
      "cell_type": "code",
      "source": [
        "a = 4\n",
        "b = 2\n",
        "\n",
        "a > b"
      ],
      "metadata": {
        "colab": {
          "base_uri": "https://localhost:8080/"
        },
        "id": "7Hj7auK-ep7k",
        "outputId": "a82cb39b-7a20-4ee8-b473-bc4aecf5b0b9"
      },
      "execution_count": null,
      "outputs": [
        {
          "output_type": "execute_result",
          "data": {
            "text/plain": [
              "True"
            ]
          },
          "metadata": {},
          "execution_count": 9
        }
      ]
    },
    {
      "cell_type": "code",
      "source": [
        "a = 4\n",
        "b = 5\n",
        "\n",
        "a > b"
      ],
      "metadata": {
        "colab": {
          "base_uri": "https://localhost:8080/"
        },
        "id": "buPjdt75esW5",
        "outputId": "eaab0b81-538a-4320-d217-cb8db80415fe"
      },
      "execution_count": null,
      "outputs": [
        {
          "output_type": "execute_result",
          "data": {
            "text/plain": [
              "False"
            ]
          },
          "metadata": {},
          "execution_count": 10
        }
      ]
    },
    {
      "cell_type": "code",
      "source": [
        "a = 4\n",
        "b = 6\n",
        "\n",
        "a < b"
      ],
      "metadata": {
        "colab": {
          "base_uri": "https://localhost:8080/"
        },
        "id": "xZQxTBEthoPa",
        "outputId": "1e76d5fe-6899-4289-a64f-7319ab23da07"
      },
      "execution_count": null,
      "outputs": [
        {
          "output_type": "execute_result",
          "data": {
            "text/plain": [
              "True"
            ]
          },
          "metadata": {},
          "execution_count": 12
        }
      ]
    },
    {
      "cell_type": "code",
      "source": [
        "a = 8\n",
        "b = 6\n",
        "\n",
        "a < b"
      ],
      "metadata": {
        "colab": {
          "base_uri": "https://localhost:8080/"
        },
        "id": "Y3usoajyhqHv",
        "outputId": "5d3607e9-3e32-43e5-8606-ab98aec04c7e"
      },
      "execution_count": null,
      "outputs": [
        {
          "output_type": "execute_result",
          "data": {
            "text/plain": [
              "False"
            ]
          },
          "metadata": {},
          "execution_count": 13
        }
      ]
    },
    {
      "cell_type": "code",
      "source": [
        "a = 5\n",
        "b = 2\n",
        "\n",
        "a >= b"
      ],
      "metadata": {
        "colab": {
          "base_uri": "https://localhost:8080/"
        },
        "id": "2oxOTmujjozT",
        "outputId": "fc770736-3dcd-4b3d-b1a4-92b5fa97907c"
      },
      "execution_count": null,
      "outputs": [
        {
          "output_type": "execute_result",
          "data": {
            "text/plain": [
              "True"
            ]
          },
          "metadata": {},
          "execution_count": 14
        }
      ]
    },
    {
      "cell_type": "code",
      "source": [
        "a = 5\n",
        "b = 5\n",
        "v\n",
        "a >= b"
      ],
      "metadata": {
        "colab": {
          "base_uri": "https://localhost:8080/"
        },
        "id": "5epc5Q_mjprn",
        "outputId": "946829e4-c444-46d9-999b-426fa5d67f8d"
      },
      "execution_count": null,
      "outputs": [
        {
          "output_type": "execute_result",
          "data": {
            "text/plain": [
              "True"
            ]
          },
          "metadata": {},
          "execution_count": 15
        }
      ]
    },
    {
      "cell_type": "code",
      "source": [
        "a = 5\n",
        "b = 10\n",
        "\n",
        "a >= b"
      ],
      "metadata": {
        "colab": {
          "base_uri": "https://localhost:8080/"
        },
        "id": "I7Df2blHjqAf",
        "outputId": "14f9b0c7-98f7-4363-949b-642c822ce65e"
      },
      "execution_count": null,
      "outputs": [
        {
          "output_type": "execute_result",
          "data": {
            "text/plain": [
              "False"
            ]
          },
          "metadata": {},
          "execution_count": 16
        }
      ]
    },
    {
      "cell_type": "code",
      "source": [
        "a = 5\n",
        "b = 8\n",
        "\n",
        "a <= b"
      ],
      "metadata": {
        "colab": {
          "base_uri": "https://localhost:8080/"
        },
        "id": "gE89-LMelcOu",
        "outputId": "0bca424c-3cb6-4cae-d541-d1626e35ef15"
      },
      "execution_count": null,
      "outputs": [
        {
          "output_type": "execute_result",
          "data": {
            "text/plain": [
              "True"
            ]
          },
          "metadata": {},
          "execution_count": 17
        }
      ]
    },
    {
      "cell_type": "code",
      "source": [
        "a = 8\n",
        "b = 8\n",
        "\n",
        "a <= b"
      ],
      "metadata": {
        "colab": {
          "base_uri": "https://localhost:8080/"
        },
        "id": "Ebip4EkMldDv",
        "outputId": "8ae23924-93a1-460f-9e57-a6774e9fe9c2"
      },
      "execution_count": null,
      "outputs": [
        {
          "output_type": "execute_result",
          "data": {
            "text/plain": [
              "True"
            ]
          },
          "metadata": {},
          "execution_count": 18
        }
      ]
    },
    {
      "cell_type": "code",
      "source": [
        "a = 10\n",
        "b = 8\n",
        "\n",
        "a <= b"
      ],
      "metadata": {
        "colab": {
          "base_uri": "https://localhost:8080/"
        },
        "id": "Y0C_yXthldsM",
        "outputId": "847f89c0-3984-4a8a-de7f-7a0b36ebf2b8"
      },
      "execution_count": null,
      "outputs": [
        {
          "output_type": "execute_result",
          "data": {
            "text/plain": [
              "False"
            ]
          },
          "metadata": {},
          "execution_count": 19
        }
      ]
    },
    {
      "cell_type": "code",
      "source": [
        "a = 20\n",
        "\n",
        "if (a > 16) :\n",
        "\tprint(\"You can pass\")\n",
        "\n",
        "print(\"move on\")"
      ],
      "metadata": {
        "colab": {
          "base_uri": "https://localhost:8080/"
        },
        "id": "AiR-VoZc9NxG",
        "outputId": "4abfd813-d79c-4ad4-f731-23124ddc6e09"
      },
      "execution_count": null,
      "outputs": [
        {
          "output_type": "stream",
          "name": "stdout",
          "text": [
            "You can pass\n",
            "move on\n"
          ]
        }
      ]
    },
    {
      "cell_type": "code",
      "source": [
        "a = 20\n",
        "\n",
        "if (a < 20) :\n",
        "\tprint(\"You can pass\")\n",
        "elif (a == 20) :\n",
        "  print(\"You're too old for this machine\")\n",
        "\n",
        "print(\"move on\")"
      ],
      "metadata": {
        "colab": {
          "base_uri": "https://localhost:8080/"
        },
        "id": "4ysdkrKu-ctw",
        "outputId": "bd837835-56cf-47d4-b04c-cb004e2b256a"
      },
      "execution_count": null,
      "outputs": [
        {
          "output_type": "stream",
          "name": "stdout",
          "text": [
            "You're too old for this machine\n",
            "move on\n"
          ]
        }
      ]
    },
    {
      "cell_type": "code",
      "source": [
        "a = 56\n",
        "\n",
        "if (a < 20) :\n",
        "\tprint(\"You can pass\")\n",
        "elif (a == 20) :\n",
        "  print(\"You're too old for this machine\")\n",
        "else :\n",
        "  print(\"You can't be here. Move on!\")\n",
        "\n",
        "print(\"move on\")"
      ],
      "metadata": {
        "colab": {
          "base_uri": "https://localhost:8080/"
        },
        "id": "nwb8wyGSAI_D",
        "outputId": "270889b6-f7ff-44c0-e5a9-5ac8460e3782"
      },
      "execution_count": null,
      "outputs": [
        {
          "output_type": "stream",
          "name": "stdout",
          "text": [
            "You can't be here. Move on!\n",
            "move on\n"
          ]
        }
      ]
    },
    {
      "cell_type": "code",
      "source": [
        "# Mulai\n",
        "\n",
        "# input umur\n",
        "umur = int(input(\"Berapa umur kamu = \"))\n",
        "\n",
        "if (umur >= 17) : # Jika umur lebih sama dengan 17\n",
        "\n",
        "  print(\"Boleh membuat SIM\") # Boleh membuat SIM\n",
        "\n",
        "else : # Jika umur tidak lebih sama dengan 17\n",
        "\n",
        "  print(\"Belum boleh membuat SIM\") # Tidak boleh membuat SIM\n",
        "\n",
        "# Selesai"
      ],
      "metadata": {
        "id": "G5sMdezUCyrv"
      },
      "execution_count": null,
      "outputs": []
    },
    {
      "cell_type": "code",
      "source": [
        "# Mulai\n",
        "\n",
        "print(\"===== Sistem Input Nilai =====\")\n",
        "print(\"\")\n",
        "\n",
        "# Input Nilai\n",
        "\n",
        "nilai = int(input(\"Berapa nilai kamu = \")) # input Nilai\n",
        "grade = str # Variable grade\n",
        "\n",
        "if (nilai >= 90) : # Jika nilai lebih sama dengan 90\n",
        "  grade = \"A\" # Grade A\n",
        "elif (nilai >= 80) : # Jika nilai lebih sama dengan 80\n",
        "  grade = \"B+\" # Grade B+\n",
        "elif (nilai >= 70) : # Jika nilai lebih sama dengan 70\n",
        "  grade = \"B\" # Grade B\n",
        "elif (nilai >= 60) : # Jika nilai lebih sama dengan 60\n",
        "  grade = \"C+\" # Grade C+\n",
        "elif (nilai >= 50) : # Jika nilai lebih sama dengan 50\n",
        "  grade = \"C\" # Grade C\n",
        "elif (nilai >= 40) : # Jika nilai lebih sama dengan 40\n",
        "  grade = \"D\" # Grade D\n",
        "else : # Jika nilai kurang dari 40\n",
        "  grade = \"E\" # Grade E\n",
        "\n",
        "print(\"\")\n",
        "print(\"Grade kamu adalah = {}\".format(grade)) # Print Grade\n",
        "\n",
        "# Selesai"
      ],
      "metadata": {
        "colab": {
          "base_uri": "https://localhost:8080/"
        },
        "id": "WTKicQKeC6ln",
        "outputId": "80c424fa-3519-4049-c4ac-6d9984021444"
      },
      "execution_count": null,
      "outputs": [
        {
          "output_type": "stream",
          "name": "stdout",
          "text": [
            "===== Sistem Input Nilai =====\n",
            "\n",
            "Berapa nilai kamu = 101\n",
            "\n",
            "Grade kamu adalah = A\n"
          ]
        }
      ]
    },
    {
      "cell_type": "code",
      "source": [
        "# Mulai\n",
        "\n",
        "print(\"===== Sistem Input Nilai =====\")\n",
        "print(\"\")\n",
        "\n",
        "# Input Nilai\n",
        "\n",
        "nilai = float(input(\"Berapa nilai kamu = \")) # input Nilai\n",
        "grade = str # Variable grade\n",
        "\n",
        "if (nilai >= 80) : # Jika nilai lebih sama dengan 80\n",
        "  grade = \"A\" # Grade A\n",
        "elif (nilai >= 77.5) : # Jika nilai lebih sama dengan 77.5\n",
        "  grade = \"A-\" # Grade A-\n",
        "elif (nilai >= 75) : # Jika nilai lebih sama dengan 75\n",
        "  grade = \"A/B\" # Grade A/B\n",
        "elif (nilai >= 72.5) : # Jika nilai lebih sama dengan 72.5\n",
        "  grade = \"B+\" # Grade B+\n",
        "elif (nilai >= 70) : # Jika nilai lebih sama dengan 70\n",
        "  grade = \"B\" # Grade B\n",
        "elif (nilai >= 67.5) : # Jika nilai lebih sama dengan 67.5\n",
        "  grade = \"B-\" # Grade B-\n",
        "elif (nilai >= 65) : # Jika nilai lebih sama dengan dari 65\n",
        "  grade = \"B/C\" # Grade B/C\n",
        "elif (nilai >= 62.5) : # Jika nilai lebih sama dengan dari 62.5\n",
        "  grade = \"C+\" # Grade C+\n",
        "elif (nilai >= 60) : # Jika nilai lebih sama dengan dari 60\n",
        "  grade = \"C\" # Grade C\n",
        "elif (nilai >= 55) : # Jika nilai lebih sama dengan dari 55\n",
        "  grade = \"C-\" # Grade C-\n",
        "elif (nilai >= 50) : # Jika nilai lebih sama dengan dari 50\n",
        "  grade = \"C/D\" # Grade C/D\n",
        "elif (nilai >= 45) : # Jika nilai lebih sama dengan dari 45\n",
        "  grade = \"D+\" # Grade D+\n",
        "elif (nilai >= 40) : # Jika nilai lebih sama dengan dari 40\n",
        "  grade = \"D\" # Grade D\n",
        "else : # Jika nilai kurang dari 40\n",
        "  grade = \"E\" # Grade E\n",
        "\n",
        "print(\"\")\n",
        "print(\"Grade kamu adalah = {}\".format(grade)) # Print Grade\n",
        "\n",
        "# Selesai"
      ],
      "metadata": {
        "colab": {
          "base_uri": "https://localhost:8080/"
        },
        "id": "DnMjJcNPHJNi",
        "outputId": "cee0cd2b-760d-4003-90a1-418a9a76c4ca"
      },
      "execution_count": 33,
      "outputs": [
        {
          "output_type": "stream",
          "name": "stdout",
          "text": [
            "===== Sistem Input Nilai =====\n",
            "\n",
            "Berapa nilai kamu = 56\n",
            "\n",
            "Grade kamu adalah = C-\n"
          ]
        }
      ]
    }
  ]
}