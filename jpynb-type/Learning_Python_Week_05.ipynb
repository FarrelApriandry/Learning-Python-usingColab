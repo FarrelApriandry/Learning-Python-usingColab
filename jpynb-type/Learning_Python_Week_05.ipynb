{
  "nbformat": 4,
  "nbformat_minor": 0,
  "metadata": {
    "colab": {
      "provenance": []
    },
    "kernelspec": {
      "name": "python3",
      "display_name": "Python 3"
    },
    "language_info": {
      "name": "python"
    }
  },
  "cells": [
    {
      "cell_type": "code",
      "execution_count": 2,
      "metadata": {
        "colab": {
          "base_uri": "https://localhost:8080/"
        },
        "id": "WI5zWs8t-cgj",
        "outputId": "c6b28369-4a77-4047-f9c7-c99cd3d3688e"
      },
      "outputs": [
        {
          "output_type": "stream",
          "name": "stdout",
          "text": [
            "Not met the requirement.\n"
          ]
        }
      ],
      "source": [
        "#Age Checker\n",
        "\n",
        "age = 16\n",
        "\n",
        "if num > 21:\n",
        "    print(\"All item is legal.\")\n",
        "else:\n",
        "    if num > 17:\n",
        "        print(\"Not all item is legal.\")\n",
        "    else:\n",
        "        print(\"Not met the requirement.\")\n"
      ]
    },
    {
      "cell_type": "code",
      "source": [
        "username = str(input(\"Enter Username: \"))\n",
        "password = str(input(\"Enter Password: \"))\n",
        "\n",
        "if username and password == \"admin\":\n",
        "    print(\"Berhasil login sebagai admin\")\n",
        "elif username == \"admin\" and password == \"12345\":\n",
        "    print(\"Kata sandi lemah, ata sandi perlu dirubah\")\n",
        "elif username == \"guest\" and password == \"guest\":\n",
        "    print(\"Berhasil login sebagai guest\")\n",
        "elif username == \"guest\" and password != \"guest\":\n",
        "    print(\"Password salah!\")\n",
        "else:\n",
        "    print(\"Anda belum paham cara mainnya!\")"
      ],
      "metadata": {
        "colab": {
          "base_uri": "https://localhost:8080/"
        },
        "id": "QhVDVD9eCq_6",
        "outputId": "6bfe9df7-2805-4861-d642-2d6a0a042105"
      },
      "execution_count": 14,
      "outputs": [
        {
          "output_type": "stream",
          "name": "stdout",
          "text": [
            "Enter Username: test1\n",
            "Enter Password: test1\n",
            "Anda belum paham cara mainnya!\n"
          ]
        }
      ]
    },
    {
      "cell_type": "code",
      "source": [
        "num = int(input(\"Masukkan angka: \"))\n",
        "\n",
        "if type(num) == int :\n",
        "  if num > 0:\n",
        "    if num % 2 == 0:\n",
        "      print(\"angka merupakan bilangan genap\")\n",
        "    else:\n",
        "      print(\"ankga merupakan bilangan ganjil\")\n",
        "  elif num < 0:\n",
        "    print(\"angka merupakan bilangan bulat negatif\")\n",
        "  else:\n",
        "    print(\"angka merupakan nol\")\n",
        "else:\n",
        "  print(\"angka bukan bilangan bulat\")"
      ],
      "metadata": {
        "id": "GXJznd8fIepL"
      },
      "execution_count": null,
      "outputs": []
    },
    {
      "cell_type": "code",
      "source": [
        "try:\n",
        "    num = int(input(\"Masukkan angka: \"))\n",
        "\n",
        "    if num > 0:\n",
        "        if num % 2 == 0:\n",
        "            print(\"Angka merupakan bilangan genap\")\n",
        "        else:\n",
        "            print(\"Angka merupakan bilangan ganjil\")\n",
        "    elif num < 0:\n",
        "        print(\"Angka merupakan bilangan bulat negatif\")\n",
        "    else:\n",
        "        print(\"Angka merupakan nol\")\n",
        "\n",
        "except ValueError:\n",
        "    print(\"Angka bukan bilangan bulat\")"
      ],
      "metadata": {
        "colab": {
          "base_uri": "https://localhost:8080/"
        },
        "id": "yZ4KyQ2wIhII",
        "outputId": "1f81b3f5-f771-41fe-e376-b2164e7b5524"
      },
      "execution_count": 30,
      "outputs": [
        {
          "output_type": "stream",
          "name": "stdout",
          "text": [
            "Masukkan angka: ini bukan bilangan bulat\n",
            "Angka bukan bilangan bulat\n"
          ]
        }
      ]
    }
  ]
}