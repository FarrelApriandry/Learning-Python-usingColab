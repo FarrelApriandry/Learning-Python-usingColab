{
  "nbformat": 4,
  "nbformat_minor": 0,
  "metadata": {
    "colab": {
      "provenance": []
    },
    "kernelspec": {
      "name": "python3",
      "display_name": "Python 3"
    },
    "language_info": {
      "name": "python"
    }
  },
  "cells": [
    {
      "cell_type": "code",
      "source": [
        "range(3)\n",
        "\n",
        "age = [17,19,21]\n",
        "N = len(age)\n",
        "\n",
        "for i in range(N):\n",
        "    print(age[i])"
      ],
      "metadata": {
        "colab": {
          "base_uri": "https://localhost:8080/"
        },
        "id": "wV9F5JF0d2qA",
        "outputId": "554f4c1d-fe11-456c-9f17-aafb0edefd2d"
      },
      "execution_count": null,
      "outputs": [
        {
          "output_type": "stream",
          "name": "stdout",
          "text": [
            "17\n",
            "19\n",
            "21\n"
          ]
        }
      ]
    },
    {
      "cell_type": "code",
      "source": [
        "for i in range(0, 5):\n",
        "    print(i)"
      ],
      "metadata": {
        "colab": {
          "base_uri": "https://localhost:8080/"
        },
        "id": "gMBPTbRmevBY",
        "outputId": "042ff86a-627c-4609-e386-bd55d80ce11b"
      },
      "execution_count": null,
      "outputs": [
        {
          "output_type": "stream",
          "name": "stdout",
          "text": [
            "0\n",
            "1\n",
            "2\n",
            "3\n",
            "4\n"
          ]
        }
      ]
    },
    {
      "cell_type": "code",
      "source": [
        "list = [1,2,3,4,5]\n",
        "for number in list:\n",
        "    print(number)"
      ],
      "metadata": {
        "colab": {
          "base_uri": "https://localhost:8080/"
        },
        "id": "8aH-FUpjfknX",
        "outputId": "1ec7d969-50c8-44d0-e2d5-220bd8796c26"
      },
      "execution_count": null,
      "outputs": [
        {
          "output_type": "stream",
          "name": "stdout",
          "text": [
            "1\n",
            "2\n",
            "3\n",
            "4\n",
            "5\n"
          ]
        }
      ]
    },
    {
      "cell_type": "code",
      "source": [
        "number = ['-1', '0', '1', '2']\n",
        "\n",
        "for i in range(0, 3):\n",
        "    print(\"Before number \", i, 'is',  number[i])\n",
        "    squares[i] = 'weight'\n",
        "    print(\"After number \", i, 'is',  number[i])"
      ],
      "metadata": {
        "colab": {
          "base_uri": "https://localhost:8080/"
        },
        "id": "ACFOX1qYgL2Z",
        "outputId": "174d0c6b-74e0-4b66-b872-184f64a34387"
      },
      "execution_count": null,
      "outputs": [
        {
          "output_type": "stream",
          "name": "stdout",
          "text": [
            "Before number  0 is -1\n",
            "After number  0 is -1\n",
            "Before number  1 is 0\n",
            "After number  1 is 0\n",
            "Before number  2 is 1\n",
            "After number  2 is 1\n"
          ]
        }
      ]
    },
    {
      "cell_type": "code",
      "source": [
        "color = ['red', 'yellow', 'green', 'blue']\n",
        "\n",
        "for i, color in enumerate(color):\n",
        "    i = i + 1\n",
        "    print(i, color)"
      ],
      "metadata": {
        "colab": {
          "base_uri": "https://localhost:8080/"
        },
        "id": "mXvs7j2AiOPp",
        "outputId": "e15367ba-57fd-4bf3-d525-6a9b5e711b71"
      },
      "execution_count": null,
      "outputs": [
        {
          "output_type": "stream",
          "name": "stdout",
          "text": [
            "1 red\n",
            "2 yellow\n",
            "3 green\n",
            "4 blue\n"
          ]
        }
      ]
    },
    {
      "cell_type": "code",
      "source": [
        "age = [17, 21, 23, 25]\n",
        "\n",
        "i = 0\n",
        "number = 0\n",
        "\n",
        "while(number != age[2]):\n",
        "    number = age[i]\n",
        "    i = i + 1\n",
        "    print(number)\n",
        "\n",
        "print(\"It took \", i ,\"repetitions to get out of loop.\")"
      ],
      "metadata": {
        "colab": {
          "base_uri": "https://localhost:8080/"
        },
        "id": "sGHq_0UkiuOh",
        "outputId": "79762282-5912-43d9-a17c-e880e23912bb"
      },
      "execution_count": 8,
      "outputs": [
        {
          "output_type": "stream",
          "name": "stdout",
          "text": [
            "17\n",
            "21\n",
            "23\n",
            "It took  3 repetitions to get out of loop.\n"
          ]
        }
      ]
    },
    {
      "cell_type": "code",
      "source": [
        "for i in range(1, 3):\n",
        "    for j in range(1, 3):\n",
        "        print(f\"i = {i}, j = {j}\")"
      ],
      "metadata": {
        "colab": {
          "base_uri": "https://localhost:8080/"
        },
        "id": "rJFbpKhC_z3e",
        "outputId": "06554f9e-025c-42da-f59a-150b615fb262"
      },
      "execution_count": 11,
      "outputs": [
        {
          "output_type": "stream",
          "name": "stdout",
          "text": [
            "i = 1, j = 1\n",
            "i = 1, j = 2\n",
            "i = 2, j = 1\n",
            "i = 2, j = 2\n"
          ]
        }
      ]
    },
    {
      "cell_type": "code",
      "source": [
        "ln = int(input(\"Jumlah baris: \"))\n",
        "spc = ln - 1\n",
        "\n",
        "for i in range(ln):\n",
        "  print(\" \" * spc + \"* \" * (i + 1))\n",
        "  spc -= 1"
      ],
      "metadata": {
        "colab": {
          "base_uri": "https://localhost:8080/"
        },
        "id": "uIUOuW5w9R8X",
        "outputId": "aa4cae12-9d83-497c-80ea-d22b56bef98c"
      },
      "execution_count": 12,
      "outputs": [
        {
          "output_type": "stream",
          "name": "stdout",
          "text": [
            "Jumlah baris: 10\n",
            "         * \n",
            "        * * \n",
            "       * * * \n",
            "      * * * * \n",
            "     * * * * * \n",
            "    * * * * * * \n",
            "   * * * * * * * \n",
            "  * * * * * * * * \n",
            " * * * * * * * * * \n",
            "* * * * * * * * * * \n"
          ]
        }
      ]
    },
    {
      "cell_type": "code",
      "source": [
        "x = int(input(\"Jumlah baris: \"))\n",
        "\n",
        "def pascal(a, b) :\n",
        "  if b in (0, a) :\n",
        "    return 1\n",
        "  return pascal(a - 1, b - 1) + pascal(a - 1, b)\n",
        "\n",
        "for row in range(x) :\n",
        "  print(\" \" * (x - row - 1), end=\"\")\n",
        "  for b in range(row + 1) :\n",
        "    print(pascal(row, b), end=\" \")\n",
        "  print()"
      ],
      "metadata": {
        "colab": {
          "base_uri": "https://localhost:8080/"
        },
        "id": "Y4fOKQE48009",
        "outputId": "ce504931-34a0-4d1b-af72-61798d80e569"
      },
      "execution_count": 13,
      "outputs": [
        {
          "output_type": "stream",
          "name": "stdout",
          "text": [
            "Jumlah baris: 10\n",
            "         1 \n",
            "        1 1 \n",
            "       1 2 1 \n",
            "      1 3 3 1 \n",
            "     1 4 6 4 1 \n",
            "    1 5 10 10 5 1 \n",
            "   1 6 15 20 15 6 1 \n",
            "  1 7 21 35 35 21 7 1 \n",
            " 1 8 28 56 70 56 28 8 1 \n",
            "1 9 36 84 126 126 84 36 9 1 \n"
          ]
        }
      ]
    },
    {
      "cell_type": "code",
      "source": [
        "def pascal(a, b) :\n",
        "  if b in (0, a) :\n",
        "    return 1\n",
        "  return pascal(a - 1, b - 1) + pascal(a - 1, b)\n",
        "\n",
        "def hasilBaris(x):\n",
        "  jumlah = 0\n",
        "  for b in range(x):\n",
        "    jumlah += pascal(x - 1, b)\n",
        "  return jumlah\n",
        "\n",
        "x = int(input(\"Input jumlah baris: \"))\n",
        "print(hasilBaris(x))\n"
      ],
      "metadata": {
        "colab": {
          "base_uri": "https://localhost:8080/"
        },
        "id": "4eFFtSB2qCF6",
        "outputId": "1172ee57-b45f-4969-de4d-7923009c533d"
      },
      "execution_count": 17,
      "outputs": [
        {
          "output_type": "stream",
          "name": "stdout",
          "text": [
            "Input jumlah baris: 10\n",
            "512\n"
          ]
        }
      ]
    }
  ]
}