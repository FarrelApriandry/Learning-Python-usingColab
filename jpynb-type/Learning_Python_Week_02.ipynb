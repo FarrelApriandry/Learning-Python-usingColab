{
  "nbformat": 4,
  "nbformat_minor": 0,
  "metadata": {
    "colab": {
      "provenance": []
    },
    "kernelspec": {
      "name": "python3",
      "display_name": "Python 3"
    },
    "language_info": {
      "name": "python"
    }
  },
  "cells": [
    {
      "cell_type": "code",
      "execution_count": null,
      "metadata": {
        "colab": {
          "base_uri": "https://localhost:8080/"
        },
        "id": "-rdlJylnVWZ7",
        "outputId": "31b44c53-95ff-4a69-c2dc-c089bc2c1abd"
      },
      "outputs": [
        {
          "output_type": "stream",
          "name": "stdout",
          "text": [
            "Hello Python!\n"
          ]
        }
      ],
      "source": [
        "#Print String Text\n",
        "\n",
        "print('Hello Python!')"
      ]
    },
    {
      "cell_type": "code",
      "source": [
        "import sys\n",
        "print(sys.version)"
      ],
      "metadata": {
        "colab": {
          "base_uri": "https://localhost:8080/"
        },
        "id": "pEYvN8E0Y17z",
        "outputId": "f9733309-7090-44fa-d6e4-9de2e1762c73"
      },
      "execution_count": null,
      "outputs": [
        {
          "output_type": "stream",
          "name": "stdout",
          "text": [
            "3.10.12 (main, Jul 29 2024, 16:56:48) [GCC 11.4.0]\n"
          ]
        }
      ]
    },
    {
      "cell_type": "code",
      "source": [
        "# put your comment here\n",
        "\n",
        "print('the green text is your comment')"
      ],
      "metadata": {
        "colab": {
          "base_uri": "https://localhost:8080/"
        },
        "id": "okTD8ajLbeeT",
        "outputId": "d39fb9d1-be0a-43a0-fc78-37b5d00b291d"
      },
      "execution_count": null,
      "outputs": [
        {
          "output_type": "stream",
          "name": "stdout",
          "text": [
            "the green text is your comment\n"
          ]
        }
      ]
    },
    {
      "cell_type": "code",
      "source": [
        "# print string as error message\n",
        "\n",
        "print('Hello, Python!')"
      ],
      "metadata": {
        "colab": {
          "base_uri": "https://localhost:8080/"
        },
        "id": "ryeDY9T-d4LR",
        "outputId": "5699f86c-4a28-4b92-fcb5-1dfcbfb6df75"
      },
      "execution_count": null,
      "outputs": [
        {
          "output_type": "stream",
          "name": "stdout",
          "text": [
            "Hello, Python!\n"
          ]
        }
      ]
    },
    {
      "cell_type": "code",
      "source": [
        "print('My biodata :')\n",
        "print('')\n",
        "print('Name   : Farrel Apriandry')\n",
        "print('Number : 2430506056')\n",
        "print('Addres : Magelang, Central Java, Indonesia')\n",
        "print('Height : 169cm')\n",
        "print('Weight : 73kg')"
      ],
      "metadata": {
        "colab": {
          "base_uri": "https://localhost:8080/"
        },
        "id": "Mq8B8kKBfgxH",
        "outputId": "d0f4ee75-2133-46f9-f389-36c894278c9c"
      },
      "execution_count": null,
      "outputs": [
        {
          "output_type": "stream",
          "name": "stdout",
          "text": [
            "My biodata :\n",
            "\n",
            "Name   : Farrel Apriandry\n",
            "Number : 2430506056\n",
            "Addres : Magelang, Central Java, Indonesia\n",
            "Height : 169cm\n",
            "Weight : 73kg\n"
          ]
        }
      ]
    },
    {
      "cell_type": "code",
      "source": [
        "print('\\033[1mUNIVERSITAS TIDAR\\033[0m')\n",
        "print('Universitas Tidar merupakan Perguruan Tinggi Pemerintah atau Perguruan Tinggi Negeri yang telah ditetapkan berdasarkan Peraturan Presiden Republik Indonesia Nomor 23 Tahun 2014 pada tanggal 1 April 2014.')\n",
        "print('')\n",
        "print('\\033[1mPROGRAM PENDIDIKAN TEKNOLOGI INFORMASI\\033[0m')\n",
        "print('Program Pendidikan Teknologi Informasi adalah sebuah Program studi yang tersedia di Untidar dibawah naungan Fakultas Teknik')"
      ],
      "metadata": {
        "id": "zXaB1l57gDsZ",
        "colab": {
          "base_uri": "https://localhost:8080/"
        },
        "outputId": "0f6aa477-e253-4f7d-f40d-f5cfe2bffef9"
      },
      "execution_count": null,
      "outputs": [
        {
          "output_type": "stream",
          "name": "stdout",
          "text": [
            "\u001b[1mUNIVERSITAS TIDAR\u001b[0m\n",
            "Universitas Tidar merupakan Perguruan Tinggi Pemerintah atau Perguruan Tinggi Negeri yang telah ditetapkan berdasarkan Peraturan Presiden Republik Indonesia Nomor 23 Tahun 2014 pada tanggal 1 April 2014.\n",
            "\n",
            "\u001b[1mPROGRAM PENDIDIKAN TEKNOLOGI INFORMASI\u001b[0m\n",
            "Program Pendidikan Teknologi Informasi adalah sebuah Program studi yang tersedia di Untidar dibawah naungan Fakultas Teknik\n"
          ]
        }
      ]
    }
  ]
}